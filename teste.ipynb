{
 "cells": [
  {
   "cell_type": "code",
   "execution_count": null,
   "id": "21a1250f",
   "metadata": {},
   "outputs": [],
   "source": [
    "from pathlib import Path"
   ]
  },
  {
   "cell_type": "code",
   "execution_count": null,
   "id": "8f37980b",
   "metadata": {},
   "outputs": [],
   "source": [
    "url = \"https://ftp.cptec.inpe.br/modelos/tempo/MERGE/GPM/DAILY\"\n",
    "Diretorio = Path ('MERGE')"
   ]
  }
 ],
 "metadata": {
  "kernelspec": {
   "display_name": "git-treino-lamoc",
   "language": "python",
   "name": "python3"
  },
  "language_info": {
   "codemirror_mode": {
    "name": "ipython",
    "version": 3
   },
   "file_extension": ".py",
   "mimetype": "text/x-python",
   "name": "python",
   "nbconvert_exporter": "python",
   "pygments_lexer": "ipython3",
   "version": "3.12.11"
  }
 },
 "nbformat": 4,
 "nbformat_minor": 5
}
